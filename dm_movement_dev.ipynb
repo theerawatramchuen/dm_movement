{
 "cells": [
  {
   "cell_type": "code",
   "execution_count": 1,
   "id": "33290990-bb70-4f4b-93b8-0b54c45eea96",
   "metadata": {},
   "outputs": [],
   "source": [
    "# Define cutoff date format 'mm/dd/yyyy'\n",
    "cutoff_date = '11/19/2024'\n",
    "\n",
    "# Define DM inventory Raw data CSV file name\n",
    "dm_invent_csv = 'Au_Wire_Nov_21_2024.XLS.csv'\n",
    "\n",
    "# Define DM Movement Raw data CSV file name\n",
    "dm_movement_csv = 'movement Jan-Oct_24_120.csv'"
   ]
  },
  {
   "cell_type": "code",
   "execution_count": 2,
   "id": "1e0f4ec8-5238-4238-829e-b9117452e675",
   "metadata": {},
   "outputs": [],
   "source": [
    "import pandas as pd\n",
    "from datetime import datetime\n",
    "cutoff_date = datetime.strptime(cutoff_date, '%m/%d/%Y')\n",
    "\n",
    "# Set the option to display all columns\n",
    "pd.set_option('display.max_columns', None)"
   ]
  },
  {
   "cell_type": "code",
   "execution_count": 3,
   "id": "081a3081-b96a-420b-9dad-6224bdb37456",
   "metadata": {},
   "outputs": [
    {
     "name": "stdout",
     "output_type": "stream",
     "text": [
      "File has been edited and saved as dm_invent.csv\n",
      "<class 'pandas.core.frame.DataFrame'>\n",
      "RangeIndex: 10 entries, 0 to 9\n",
      "Data columns (total 4 columns):\n",
      " #   Column      Non-Null Count  Dtype         \n",
      "---  ------      --------------  -----         \n",
      " 0   Material_1  10 non-null     object        \n",
      " 1   Batch       10 non-null     int64         \n",
      " 2   Shlf_Date   10 non-null     datetime64[ns]\n",
      " 3   TOTAL       10 non-null     object        \n",
      "dtypes: datetime64[ns](1), int64(1), object(2)\n",
      "memory usage: 448.0+ bytes\n"
     ]
    },
    {
     "name": "stderr",
     "output_type": "stream",
     "text": [
      "C:\\Users\\User\\AppData\\Local\\Temp\\ipykernel_18184\\3894675093.py:35: FutureWarning: The argument 'date_parser' is deprecated and will be removed in a future version. Please use 'date_format' instead, or read your data in as 'object' dtype and then call 'to_datetime'.\n",
      "  df = pd.read_csv(output_file,  usecols=[1,8,18,27], parse_dates=['Shlf.Date'], date_parser=custom_date_parser)\n"
     ]
    }
   ],
   "source": [
    "def edit_text_file(input_file, output_file):\n",
    "    # Read the input file\n",
    "    with open(input_file, 'r') as file:\n",
    "        lines = file.readlines()\n",
    "\n",
    "    # Delete rows 1, 2, 3, 4, and 6 (using 0-based index)\n",
    "    rows_to_delete = [0, 1, 2, 3, 5]  # Convert 1-based to 0-based index\n",
    "    new_lines = [line for i, line in enumerate(lines) if i not in rows_to_delete]\n",
    "\n",
    "    # Delete the first character of every remaining row\n",
    "    new_lines = [line[1:] if len(line) > 1 else line for line in new_lines]\n",
    "\n",
    "    # Write the modified content to the output file\n",
    "    with open(output_file, 'w') as file:\n",
    "        file.writelines(new_lines)\n",
    "\n",
    "# Specify the input file and output file names\n",
    "input_file = dm_invent_csv  # Replace with your input file name\n",
    "output_file = 'dm_invent.csv'\n",
    "\n",
    "# Call the function to edit the text file\n",
    "edit_text_file(input_file, output_file)\n",
    "\n",
    "print(f\"File has been edited and saved as {output_file}\")\n",
    "\n",
    "# Import the \"data.csv\" file into a pandas DataFrame\n",
    "#df = pd.read_csv(output_file, on_bad_lines='warn')\n",
    "#df = pd.read_csv(output_file, usecols=[1,18,27])\n",
    "\n",
    "# Define a custom date parser function\n",
    "def custom_date_parser(date_str):\n",
    "    return datetime.strptime(date_str, '%m/%d/%Y')\n",
    "    \n",
    "# Import the CSV file with the custom date parser\n",
    "df = pd.read_csv(output_file,  usecols=[1,8,18,27], parse_dates=['Shlf.Date'], date_parser=custom_date_parser)\n",
    "\n",
    "# Set new column names using set_axis\n",
    "df = df.set_axis(['Material_1', 'Batch', 'Shlf_Date', 'TOTAL'], axis='columns')\n",
    "\n",
    "# Display the DataFrame\n",
    "#print(\"\\nPandas DataFrame:\")\n",
    "#print(df)\n",
    "df.info()"
   ]
  },
  {
   "cell_type": "code",
   "execution_count": 4,
   "id": "0bdbb39a-b559-4c63-8327-bf8c4f227901",
   "metadata": {},
   "outputs": [
    {
     "name": "stdout",
     "output_type": "stream",
     "text": [
      "  Material_1                   Shlf_Date     Batch    TTL\n",
      "0     GZ0039  2025-11-11 00:00:00.000000  12356832   27.0\n",
      "1     GZ0047  2024-10-25 00:00:00.000000  11593813  200.0\n",
      "2     GZ0047  2025-02-22 00:00:00.000000  11817498  200.0\n",
      "3     GZ0053  2024-09-04 00:00:00.000000  11467954    1.0\n",
      "4     GZ0057  2023-06-02 00:00:00.000000  10263087  500.0\n",
      "5     GZ0057  2023-07-16 00:00:00.000000  10375201    2.0\n",
      "6     GZ0057  2025-02-13 00:00:00.000000  11793540    1.0\n",
      "7     GZ0061  2024-10-05 00:00:00.000000  10852739    9.0\n",
      "8     GZ0061  2025-10-24 00:00:00.000000  12330393    2.0\n",
      "9     GZ0064  2024-12-18 00:00:00.000000  11691213    4.0\n"
     ]
    }
   ],
   "source": [
    "from pandasql import sqldf\n",
    "\n",
    "# Define your SQL query\n",
    "query = \"\"\"\n",
    "SELECT Material_1, Shlf_Date, Batch, sum(TOTAL) as TTL\n",
    "FROM df \n",
    "GROUP BY Material_1,Shlf_Date, Batch\n",
    "ORDER BY Material_1,Shlf_Date, Batch\n",
    "\"\"\"\n",
    "# Execute the query and create a new DataFrame\n",
    "df_invent = sqldf(query, globals())\n",
    "\n",
    "# Display the new DataFrame\n",
    "print(df_invent)\n",
    "\n",
    "# Save DataFrame to CSV file\n",
    "df_invent.to_csv('dm_invent_short.csv', index=False)"
   ]
  },
  {
   "cell_type": "code",
   "execution_count": 5,
   "id": "c20b5104-3703-4e87-a782-c3e1e60d975e",
   "metadata": {},
   "outputs": [
    {
     "name": "stdout",
     "output_type": "stream",
     "text": [
      "File has been edited and saved as dm_movement.csv\n"
     ]
    },
    {
     "name": "stderr",
     "output_type": "stream",
     "text": [
      "C:\\Users\\User\\AppData\\Local\\Temp\\ipykernel_18184\\2885995949.py:37: FutureWarning: The argument 'date_parser' is deprecated and will be removed in a future version. Please use 'date_format' instead, or read your data in as 'object' dtype and then call 'to_datetime'.\n",
      "  df2 = pd.read_csv('dm_movement_2-9-13.csv', parse_dates=['Posted on'], date_parser=custom_date_parser)\n"
     ]
    },
    {
     "name": "stdout",
     "output_type": "stream",
     "text": [
      "<class 'pandas.core.frame.DataFrame'>\n",
      "RangeIndex: 130537 entries, 0 to 130536\n",
      "Data columns (total 3 columns):\n",
      " #   Column      Non-Null Count   Dtype         \n",
      "---  ------      --------------   -----         \n",
      " 0   Material    130537 non-null  object        \n",
      " 1   Posted_on   130537 non-null  datetime64[ns]\n",
      " 2   Qty_in_UnE  130537 non-null  object        \n",
      "dtypes: datetime64[ns](1), object(2)\n",
      "memory usage: 3.0+ MB\n"
     ]
    }
   ],
   "source": [
    "def edit_text_file2(input_file, output_file, encoding='utf-8'):\n",
    "    # Read the input file with the specified encoding\n",
    "    with open(input_file, 'r', encoding=encoding) as file:\n",
    "        lines = file.readlines()\n",
    "\n",
    "    # Delete rows 1, 2, 3, 4 (using 0-based index)\n",
    "    rows_to_delete = [0, 1, 2, 3]  # Convert 1-based to 0-based index\n",
    "    new_lines = [line for i, line in enumerate(lines) if i not in rows_to_delete]\n",
    "\n",
    "    # Delete the first character of every remaining row\n",
    "    new_lines = [line[1:] if len(line) > 1 else line for line in new_lines]\n",
    "\n",
    "    # Write the modified content to the output file with the specified encoding\n",
    "    with open(output_file, 'w', encoding=encoding) as file:\n",
    "        file.writelines(new_lines)\n",
    "\n",
    "# Specify the input file and output file names\n",
    "input_file = dm_movement_csv  # Replace with your input file name\n",
    "output_file = 'dm_movement.csv'\n",
    "\n",
    "# Call the function to edit the text file\n",
    "edit_text_file2(input_file, output_file)\n",
    "\n",
    "print(f\"File has been edited and saved as {output_file}\")\n",
    "\n",
    "# Read the CSV file, skipping bad lines and displaying warnings\n",
    "#df2 = pd.read_csv(output_file, on_bad_lines='warn')\n",
    "df2 = pd.read_csv(output_file, usecols=[2,9,13])\n",
    "\n",
    "# Remove blank records (rows with any NaN values)\n",
    "df2_cleaned = df2.dropna()\n",
    "\n",
    "# Save DataFrame to CSV file\n",
    "df2_cleaned.to_csv('dm_movement_2-9-13.csv', index=False)\n",
    "\n",
    "# Import the CSV file with the custom date parser\n",
    "df2 = pd.read_csv('dm_movement_2-9-13.csv', parse_dates=['Posted on'], date_parser=custom_date_parser)\n",
    "\n",
    "# Save DataFrame to CSV file\n",
    "df2.to_csv('dm_movement_2-9-13.csv', index=False)\n",
    "\n",
    "# Rename the column\n",
    "# df2 = df2.rename(columns={\"Posted on\": \"Posted_on\"})\n",
    "# df2 = df2.rename(columns={\"    Qty in UnE\": \"Qty_in_UnE\"})\n",
    "\n",
    "# Set new column names using set_axis\n",
    "df2 = df2.set_axis(['Material', 'Posted_on', 'Qty_in_UnE'], axis='columns')\n",
    "\n",
    "df2['Posted_on'] = pd.to_datetime(df2['Posted_on'])\n",
    "\n",
    "# Display the DataFrame\n",
    "#print(\"\\nPandas DataFrame:\")\n",
    "#print(df2)\n",
    "df2.info()"
   ]
  },
  {
   "cell_type": "code",
   "execution_count": 6,
   "id": "86d4e765-af84-47ec-9c13-278aa866500f",
   "metadata": {},
   "outputs": [],
   "source": [
    "# Define your SQL query\n",
    "query = \"\"\"\n",
    "SELECT Material, strftime('%Y-%m', Posted_on) AS month, SUM(Qty_in_UnE) AS total_value\n",
    "FROM df2\n",
    "GROUP BY Material,month\n",
    "ORDER BY Material,month\n",
    "\"\"\"\n",
    "# Execute the query and create a new DataFrame\n",
    "df_movement = sqldf(query, globals())\n",
    "\n",
    "# Display the new DataFrame\n",
    "#print(df_movement)"
   ]
  },
  {
   "cell_type": "code",
   "execution_count": 7,
   "id": "c7c3597b-f64e-4c90-9fdd-abcb0927bcb8",
   "metadata": {},
   "outputs": [
    {
     "name": "stdout",
     "output_type": "stream",
     "text": [
      "   Material    month  total_value\n",
      "0    CG0002  2024-01         87.5\n",
      "1    CG0002  2024-02        157.5\n",
      "2    CG0002  2024-03        112.5\n",
      "3    CG0002  2024-04         70.0\n",
      "4    CG0002  2024-05        102.5\n",
      "5    CG0002  2024-06         70.0\n",
      "6    CG0002  2024-07        165.0\n",
      "7    CG0002  2024-08        162.0\n",
      "8    CG0002  2024-09        148.0\n",
      "9    CG0002  2024-10        122.5\n",
      "10   CZ0134  2024-01          9.0\n",
      "11   CZ0134  2024-02          8.5\n",
      "12   CZ0134  2024-03          3.0\n",
      "13   CZ0134  2024-04         10.0\n",
      "14   CZ0134  2024-05          4.5\n",
      "15   CZ0134  2024-07         13.5\n",
      "16   CZ0134  2024-08          2.2\n",
      "17   CZ0134  2024-09          3.8\n",
      "18   CZ0134  2024-10         12.5\n",
      "19   CZ0135  2024-01        118.0\n"
     ]
    }
   ],
   "source": [
    "print(df_movement.head(20))"
   ]
  },
  {
   "cell_type": "code",
   "execution_count": 8,
   "id": "242d9e10-ccca-4b44-8387-71e6fa90a742",
   "metadata": {},
   "outputs": [
    {
     "name": "stdout",
     "output_type": "stream",
     "text": [
      "Pivot table with mean, median, and grand total has been exported to 'dm_movement_pivot.csv'\n"
     ]
    }
   ],
   "source": [
    "# Convert DataFrame to pivot table\n",
    "pivot_table = df_movement.pivot_table(index='Material', columns='month', values='total_value', aggfunc='sum')\n",
    "\n",
    "# Reset the index to make 'Material' a column again\n",
    "pivot_table = pivot_table.reset_index()\n",
    "\n",
    "# Calculate grand total for each material\n",
    "pivot_table['Grand_Total'] = pivot_table.iloc[:, 1:].sum(axis=1)\n",
    "\n",
    "# Calculate mean and median for each material\n",
    "pivot_table['Mean'] = pivot_table.iloc[:, 1:-1].mean(axis=1)\n",
    "pivot_table['Median'] = pivot_table.iloc[:, 1:-1].median(axis=1)\n",
    "\n",
    "# Export the result DataFrame to a CSV file\n",
    "pivot_table.to_csv('dm_movement_pivot.csv', index=False)\n",
    "\n",
    "print(\"Pivot table with mean, median, and grand total has been exported to 'dm_movement_pivot.csv'\")"
   ]
  },
  {
   "cell_type": "code",
   "execution_count": 9,
   "id": "cba89db7-d101-4a33-a5e1-1b9f4b3977ab",
   "metadata": {},
   "outputs": [
    {
     "name": "stdout",
     "output_type": "stream",
     "text": [
      "month Material  2024-01  2024-02  2024-03  2024-04  2024-05  2024-06  2024-07  \\\n",
      "0       CG0002     87.5    157.5    112.5     70.0    102.5     70.0    165.0   \n",
      "1       CZ0134      9.0      8.5      3.0     10.0      4.5      NaN     13.5   \n",
      "2       CZ0135    118.0    130.0    187.0    112.5    187.5    232.0    208.7   \n",
      "3       CZ0136     52.5     41.0     47.5     30.0     80.0     85.0    129.0   \n",
      "4       CZ0138     65.0     92.5     16.0     14.5     58.0     61.0     71.5   \n",
      "5       CZ0141    735.0   1065.0   1080.0    765.0   1185.0   1335.0   1470.0   \n",
      "6       CZ0142   1470.0   1335.0   1750.0   1400.0   1620.0   1620.0   1755.0   \n",
      "7       CZ0143     19.0      4.0      4.5      1.0      NaN      9.5      3.0   \n",
      "8       CZ0154      6.0      7.5     19.0      9.5      9.0     12.5     21.5   \n",
      "9       CZ0177    172.5    121.0    173.0     44.5     82.5     75.0     70.0   \n",
      "10      CZ0245     67.5     62.5     70.0     10.0     46.5     39.0     89.5   \n",
      "11      CZ0282    635.0    540.0    569.0    480.0    855.0    420.0    330.0   \n",
      "12      CZ0286    180.0    230.0    225.0    185.0    225.0    210.0    200.0   \n",
      "13      CZ0288   1920.0   2280.0   2835.0   2565.0   2490.0   3420.0   3465.0   \n",
      "14      CZ0289   3825.0   3845.0   4375.0   3585.0   3870.0   4485.0   4680.0   \n",
      "15      CZ0290     94.0     49.0     69.0     32.5     83.5     86.5    100.5   \n",
      "16      CZ0297    255.0    295.0    166.0    174.0    195.0    195.0    255.0   \n",
      "17      CZ0304      1.0     16.5     12.0      1.6      NaN     18.0     14.0   \n",
      "18      CZ0305      6.0      3.5      6.5      3.0      6.0      7.0      4.0   \n",
      "19      CZ0306    103.0     87.0    116.0     64.0     71.0     64.0     81.0   \n",
      "\n",
      "month  2024-08  2024-09  2024-10  Grand_Total         Mean   Median  \n",
      "0        162.0    148.0    122.5       1197.5   119.750000   122.50  \n",
      "1          2.2      3.8     12.5         67.0     7.444444     8.75  \n",
      "2        175.0    190.0    225.0       1765.7   176.570000   187.50  \n",
      "3         56.0     79.0    113.0        713.0    71.300000    79.00  \n",
      "4         47.0     68.0     92.5        586.0    58.600000    65.00  \n",
      "5       1620.0   1215.0    795.0      11265.0  1126.500000  1185.00  \n",
      "6       2010.0   1500.0   1875.0      16335.0  1633.500000  1620.00  \n",
      "7          3.5      4.0      2.5         51.0     5.666667     4.00  \n",
      "8         19.0      5.0     22.5        131.5    13.150000    12.50  \n",
      "9         78.5     79.5    104.5       1001.0   100.100000    82.50  \n",
      "10        45.0     50.0     75.0        555.0    55.500000    62.50  \n",
      "11       345.0    525.0    510.0       5209.0   520.900000   525.00  \n",
      "12       250.0    205.0    215.0       2125.0   212.500000   215.00  \n",
      "13      3495.0   2610.0   3330.0      28410.0  2841.000000  2835.00  \n",
      "14      5115.0   4935.0   4800.0      43515.0  4351.500000  4485.00  \n",
      "15       121.0     92.0     71.0        799.0    79.900000    86.50  \n",
      "16       297.5    251.0    225.0       2308.5   230.850000   251.00  \n",
      "17        12.0      9.0     49.8        133.9    14.877778    13.00  \n",
      "18         2.0      4.0     10.5         52.5     5.250000     6.00  \n",
      "19       100.5    115.0     80.0        881.5    88.150000    87.00  \n"
     ]
    }
   ],
   "source": [
    "print (pivot_table.head(20))"
   ]
  },
  {
   "cell_type": "code",
   "execution_count": 10,
   "id": "a41754bc-c372-438f-8034-c9acd5ff4692",
   "metadata": {},
   "outputs": [
    {
     "name": "stdout",
     "output_type": "stream",
     "text": [
      "  Material_1  Shlf_Date     Batch    TTL  Expired_Qty\n",
      "0     GZ0039 2025-11-11  12356832   27.0          0.0\n",
      "1     GZ0047 2024-10-25  11593813  200.0        200.0\n",
      "2     GZ0047 2025-02-22  11817498  200.0          0.0\n",
      "3     GZ0053 2024-09-04  11467954    1.0          1.0\n",
      "4     GZ0057 2023-06-02  10263087  500.0        500.0\n",
      "5     GZ0057 2023-07-16  10375201    2.0          2.0\n",
      "6     GZ0057 2025-02-13  11793540    1.0          0.0\n",
      "7     GZ0061 2024-10-05  10852739    9.0          9.0\n",
      "8     GZ0061 2025-10-24  12330393    2.0          0.0\n",
      "9     GZ0064 2024-12-18  11691213    4.0          0.0\n"
     ]
    }
   ],
   "source": [
    "# Create DataFrame\n",
    "df = pd.DataFrame(df_invent)\n",
    "\n",
    "# Convert Shlf_Date to datetime\n",
    "df['Shlf_Date'] = pd.to_datetime(df['Shlf_Date'])\n",
    "\n",
    "# Add Expired_Qty column\n",
    "df['Expired_Qty'] = df.apply(lambda row: row['TTL'] if row['Shlf_Date'] < cutoff_date else 0, axis=1)\n",
    "\n",
    "# Display the DataFrame\n",
    "print(df)"
   ]
  },
  {
   "cell_type": "code",
   "execution_count": 11,
   "id": "b4a4ba37-d660-4690-b9c2-db672bb7be8e",
   "metadata": {},
   "outputs": [
    {
     "name": "stdout",
     "output_type": "stream",
     "text": [
      "  Material_1  OH_TTL  Expired\n",
      "0     GZ0039    27.0      0.0\n",
      "1     GZ0047   400.0    200.0\n",
      "2     GZ0053     1.0      1.0\n",
      "3     GZ0057   503.0    502.0\n",
      "4     GZ0061    11.0      9.0\n",
      "5     GZ0064     4.0      0.0\n"
     ]
    }
   ],
   "source": [
    "# Define your SQL query\n",
    "query = \"\"\"\n",
    "SELECT Material_1, SUM(TTL) AS OH_TTL, SUM(Expired_Qty) AS Expired\n",
    "FROM df\n",
    "GROUP BY Material_1\n",
    "\"\"\"\n",
    "# Execute the query and create a new DataFrame\n",
    "df_expired = sqldf(query, globals())\n",
    "\n",
    "# Display the DataFrame\n",
    "print(df_expired.head(20))"
   ]
  },
  {
   "cell_type": "code",
   "execution_count": 12,
   "id": "44ced8ab-7ab7-448f-b3a2-ccfaea0fdeb7",
   "metadata": {},
   "outputs": [],
   "source": [
    "# Define your SQL query\n",
    "query = \"\"\"\n",
    "SELECT *,\n",
    "    (ex.OH_TTL - ex.Expired) AS Usable\n",
    "FROM \n",
    "    pivot_table AS pt\n",
    "JOIN \n",
    "    df_expired AS ex\n",
    "ON \n",
    "    pt.Material = ex.Material_1;\n",
    "\"\"\"\n",
    "# Execute the query and create a new DataFrame\n",
    "df_xxx = sqldf(query, globals())"
   ]
  },
  {
   "cell_type": "code",
   "execution_count": 13,
   "id": "74a839d5-cc31-4e5d-97f9-d243427e98c9",
   "metadata": {},
   "outputs": [
    {
     "name": "stdout",
     "output_type": "stream",
     "text": [
      "  Material  2024-01  2024-02 2024-03 2024-04 2024-05  2024-06 2024-07 2024-08  \\\n",
      "0   GZ0047    200.0      NaN    None    None    None      NaN    None    None   \n",
      "1   GZ0057      NaN      NaN    None    None    None    500.0    None    None   \n",
      "2   GZ0064      NaN      6.0    None    None    None      NaN    None    None   \n",
      "\n",
      "  2024-09 2024-10  Grand_Total   Mean  Median Material_1  OH_TTL  Expired  \\\n",
      "0    None    None        200.0  200.0   200.0     GZ0047   400.0    200.0   \n",
      "1    None    None        500.0  500.0   500.0     GZ0057   503.0    502.0   \n",
      "2    None    None          6.0    6.0     6.0     GZ0064     4.0      0.0   \n",
      "\n",
      "   Usable  \n",
      "0   200.0  \n",
      "1     1.0  \n",
      "2     4.0  \n"
     ]
    }
   ],
   "source": [
    "print(df_xxx.head(20))"
   ]
  },
  {
   "cell_type": "code",
   "execution_count": 14,
   "id": "c86c3193-9979-4864-babb-c0b57224780d",
   "metadata": {},
   "outputs": [],
   "source": [
    "# Export the result DataFrame to a CSV file\n",
    "df_xxx.to_csv('dm_movement_pivot_w_expired_qty.csv', index=False)"
   ]
  },
  {
   "cell_type": "code",
   "execution_count": 15,
   "id": "2ada4657-c064-40d5-9796-717c7ec596de",
   "metadata": {},
   "outputs": [],
   "source": [
    "import datetime\n",
    "\n",
    "# Define the variables\n",
    "#cutoff_date_str = \"Cutoff Date: \"+ str(cutoff_date)\n",
    "#dm_invent_csv = \"DM Inventory CSV: dm_inventory.csv\"\n",
    "#dm_movement_csv = \"DM Movement CSV: dm_movement.csv\"\n",
    "report_run_date = f\"Report Run Date: {datetime.datetime.now().strftime('%Y-%m-%d %H:%M:%S')}\"\n",
    "\n",
    "# Read the existing content of the file\n",
    "file_path = 'dm_movement_pivot_w_expired_qty.csv'\n",
    "with open(file_path, 'r') as file:\n",
    "    existing_content = file.read()\n",
    "\n",
    "# Create the new content with the additional lines at the top\n",
    "new_content = f\"Cutoff Date: {cutoff_date}\\nDM inventory Raw data CSV file name: \\\"{dm_invent_csv}\\\"\\nDM Movement Raw data CSV file name: \\\"{dm_movement_csv}\\\"\\n{report_run_date}\\n\\n{existing_content}\"\n",
    "\n",
    "# Write the new content back to the file\n",
    "with open(file_path, 'w') as file:\n",
    "    file.write(new_content)"
   ]
  },
  {
   "cell_type": "code",
   "execution_count": null,
   "id": "dcdd4239-92cc-4535-b6d3-62196d02221b",
   "metadata": {},
   "outputs": [],
   "source": []
  }
 ],
 "metadata": {
  "kernelspec": {
   "display_name": "Python 3 (ipykernel)",
   "language": "python",
   "name": "python3"
  },
  "language_info": {
   "codemirror_mode": {
    "name": "ipython",
    "version": 3
   },
   "file_extension": ".py",
   "mimetype": "text/x-python",
   "name": "python",
   "nbconvert_exporter": "python",
   "pygments_lexer": "ipython3",
   "version": "3.10.15"
  }
 },
 "nbformat": 4,
 "nbformat_minor": 5
}
